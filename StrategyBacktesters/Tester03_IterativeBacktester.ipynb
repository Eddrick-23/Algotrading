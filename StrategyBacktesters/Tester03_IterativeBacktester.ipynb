{
 "cells": [
  {
   "cell_type": "code",
   "execution_count": 1,
   "metadata": {},
   "outputs": [],
   "source": [
    "from IterativeBT import IterativeBacktest"
   ]
  },
  {
   "cell_type": "code",
   "execution_count": 2,
   "metadata": {},
   "outputs": [
    {
     "name": "stdout",
     "output_type": "stream",
     "text": [
      "[*********************100%%**********************]  1 of 1 completed\n"
     ]
    }
   ],
   "source": [
    "test = IterativeBacktest(\"EURUSD=X\", \"2006-12-31\", \"2020-06-30\", 100000)"
   ]
  },
  {
   "cell_type": "code",
   "execution_count": 3,
   "metadata": {},
   "outputs": [
    {
     "name": "stdout",
     "output_type": "stream",
     "text": [
      "Testing SMA Strategy | Short Window = 36 | Long Window = 170\n",
      "[*********************100%%**********************]  1 of 1 completed\n",
      "2007-08-24 | Buying 72980 units for 1.37022\n",
      "2008-09-11 | Selling 72980 units for 1.39599\n",
      "2008-09-11 | Selling 72980 units for 1.39599\n",
      "2009-05-05 | Buying -72980 units for 1.33502\n",
      "2009-05-05 | Buying 225606 units for 1.33502\n",
      "2010-01-22 | Selling 79646 units for 1.41046\n",
      "2010-01-22 | Selling 79646 units for 1.41046\n",
      "2010-10-05 | Buying -79646 units for 1.37094\n",
      "2010-10-05 | Buying 243531 units for 1.37094\n",
      "2011-09-20 | Selling 84239 units for 1.35705\n",
      "2011-09-20 | Selling 84239 units for 1.35705\n",
      "2012-10-10 | Buying -84239 units for 1.28916\n",
      "2012-10-10 | Buying 261590 units for 1.28916\n",
      "2013-04-10 | Selling 93112 units for 1.30466\n",
      "2013-04-10 | Selling 93112 units for 1.30466\n",
      "2013-07-19 | Buying -93112 units for 1.31444\n",
      "2013-07-19 | Buying 277950 units for 1.31444\n",
      "2013-08-07 | Selling 91726 units for 1.32738\n",
      "2013-08-07 | Selling 91726 units for 1.32738\n",
      "2013-08-13 | Buying -91726 units for 1.33272\n",
      "2013-08-13 | Buying 274442 units for 1.33272\n",
      "2014-06-19 | Selling 90990 units for 1.35555\n",
      "2014-06-19 | Selling 90990 units for 1.35555\n",
      "2015-09-08 | Buying -90990 units for 1.11928\n",
      "2015-09-08 | Buying 311386 units for 1.11928\n",
      "2015-11-18 | Selling 129406 units for 1.06164\n",
      "2015-11-18 | Selling 129406 units for 1.06164\n",
      "2016-03-10 | Buying -129406 units for 1.10173\n",
      "2016-03-10 | Buying 378798 units for 1.10173\n",
      "2016-08-01 | Selling 119986 units for 1.11393\n",
      "2016-08-01 | Selling 119986 units for 1.11393\n",
      "2016-09-12 | Buying -119986 units for 1.12701\n",
      "2016-09-12 | Buying 357173 units for 1.12701\n",
      "2016-10-13 | Selling 117201 units for 1.09835\n",
      "2016-10-13 | Selling 117201 units for 1.09835\n",
      "2017-05-08 | Buying -117201 units for 1.09935\n",
      "2017-05-08 | Buying 351389 units for 1.09935\n",
      "2018-05-29 | Selling 116987 units for 1.1597\n",
      "2018-05-29 | Selling 116987 units for 1.1597\n",
      "2020-01-21 | Buying -116987 units for 1.11255\n",
      "2020-01-21 | Buying 360877 units for 1.11255\n",
      "2020-01-31 | Selling 126903 units for 1.10006\n",
      "2020-01-31 | Selling 126903 units for 1.10006\n",
      "2020-06-18 | Buying -126903 units for 1.12719\n",
      "2020-06-18 | Buying 374602 units for 1.12719\n",
      "################################################################################\n",
      "+++ CLOSING FINAL POSITION AT 2020-06-29 +++\n",
      "2020-06-29 | closing long position of 120796 units for 1.12259\n",
      "2020-06-29 | Current Balance: 135604.53\n",
      "2020-06-29 | Profit & Loss = 35604.53\n",
      "2020-06-29 | net performance (%) = 35.6\n",
      "2020-06-29 | number of trades executed = 46\n",
      "################################################################################\n"
     ]
    }
   ],
   "source": [
    "test.test_sma(36,170)"
   ]
  },
  {
   "cell_type": "code",
   "execution_count": 4,
   "metadata": {},
   "outputs": [
    {
     "name": "stdout",
     "output_type": "stream",
     "text": [
      "Test Contrarian Strategy | window = 10 | quantile window = 20 | quantile = 0.9\n",
      "[*********************100%%**********************]  1 of 1 completed\n",
      "2008-01-08 | Selling 64387 units for 1.55308\n",
      "2008-01-15 | Buying -64387 units for 1.48402\n",
      "2008-01-15 | Buying 199154 units for 1.48402\n",
      "2008-12-11 | Selling 70380 units for 1.32956\n",
      "2008-12-11 | Selling 70380 units for 1.32956\n",
      "2008-12-18 | Buying -70380 units for 1.433\n",
      "2008-12-18 | Buying 200980 units for 1.433\n",
      "################################################################################\n",
      "+++ CLOSING FINAL POSITION AT 2020-06-29 +++\n",
      "2020-06-29 | closing long position of 60220 units for 1.12259\n",
      "2020-06-29 | Current Balance: 67602.98\n",
      "2020-06-29 | Profit & Loss = -32397.02\n",
      "2020-06-29 | net performance (%) = -32.4\n",
      "2020-06-29 | number of trades executed = 8\n",
      "################################################################################\n"
     ]
    }
   ],
   "source": [
    "test.test_contrarian(10,20,0.90)"
   ]
  },
  {
   "cell_type": "code",
   "execution_count": null,
   "metadata": {},
   "outputs": [],
   "source": []
  }
 ],
 "metadata": {
  "kernelspec": {
   "display_name": "algotrade",
   "language": "python",
   "name": "python3"
  },
  "language_info": {
   "codemirror_mode": {
    "name": "ipython",
    "version": 3
   },
   "file_extension": ".py",
   "mimetype": "text/x-python",
   "name": "python",
   "nbconvert_exporter": "python",
   "pygments_lexer": "ipython3",
   "version": "3.11.5"
  }
 },
 "nbformat": 4,
 "nbformat_minor": 2
}
