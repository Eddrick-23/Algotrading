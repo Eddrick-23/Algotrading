{
 "cells": [
  {
   "cell_type": "code",
   "execution_count": 1,
   "metadata": {},
   "outputs": [],
   "source": [
    "from IterativeBT import IterativeBacktest"
   ]
  },
  {
   "cell_type": "code",
   "execution_count": 2,
   "metadata": {},
   "outputs": [
    {
     "name": "stdout",
     "output_type": "stream",
     "text": [
      "[*********************100%%**********************]  1 of 1 completed\n"
     ]
    }
   ],
   "source": [
    "test = IterativeBacktest(\"EURUSD=X\", \"2006-12-31\", \"2020-06-30\", 100000)"
   ]
  },
  {
   "cell_type": "code",
   "execution_count": 3,
   "metadata": {},
   "outputs": [
    {
     "name": "stdout",
     "output_type": "stream",
     "text": [
      "Testing SMA Strategy | Short Window = 36 | Long Window = 170\n",
      "[*********************100%%**********************]  1 of 1 completed\n",
      "2007-08-24 | Buying 72980 units for 1.37022\n",
      "2008-09-11 | Selling 72980 units for 1.39599\n",
      "2008-09-11 | Selling 72980 units for 1.39599\n",
      "2009-05-05 | Buying -72980 units for 1.33502\n",
      "2009-05-05 | Buying 225606 units for 1.33502\n",
      "2010-01-22 | Selling 79646 units for 1.41046\n",
      "2010-01-22 | Selling 79646 units for 1.41046\n",
      "2010-10-05 | Buying -79646 units for 1.37094\n",
      "2010-10-05 | Buying 243531 units for 1.37094\n",
      "2011-09-20 | Selling 84239 units for 1.35705\n",
      "2011-09-20 | Selling 84239 units for 1.35705\n",
      "2012-10-10 | Buying -84239 units for 1.28916\n",
      "2012-10-10 | Buying 261590 units for 1.28916\n",
      "2013-04-10 | Selling 93112 units for 1.30466\n",
      "2013-04-10 | Selling 93112 units for 1.30466\n",
      "2013-07-19 | Buying -93112 units for 1.31444\n",
      "2013-07-19 | Buying 277950 units for 1.31444\n",
      "2013-08-07 | Selling 91726 units for 1.32738\n",
      "2013-08-07 | Selling 91726 units for 1.32738\n",
      "2013-08-13 | Buying -91726 units for 1.33272\n",
      "2013-08-13 | Buying 274442 units for 1.33272\n",
      "2014-06-19 | Selling 90990 units for 1.35555\n",
      "2014-06-19 | Selling 90990 units for 1.35555\n",
      "2015-09-08 | Buying -90990 units for 1.11928\n",
      "2015-09-08 | Buying 311386 units for 1.11928\n",
      "2015-11-18 | Selling 129406 units for 1.06164\n",
      "2015-11-18 | Selling 129406 units for 1.06164\n",
      "2016-03-10 | Buying -129406 units for 1.10173\n",
      "2016-03-10 | Buying 378798 units for 1.10173\n",
      "2016-08-01 | Selling 119986 units for 1.11393\n",
      "2016-08-01 | Selling 119986 units for 1.11393\n",
      "2016-09-12 | Buying -119986 units for 1.12701\n",
      "2016-09-12 | Buying 357173 units for 1.12701\n",
      "2016-10-13 | Selling 117201 units for 1.09835\n",
      "2016-10-13 | Selling 117201 units for 1.09835\n",
      "2017-05-08 | Buying -117201 units for 1.09935\n",
      "2017-05-08 | Buying 351389 units for 1.09935\n",
      "2018-05-29 | Selling 116987 units for 1.1597\n",
      "2018-05-29 | Selling 116987 units for 1.1597\n",
      "2020-01-21 | Buying -116987 units for 1.11255\n",
      "2020-01-21 | Buying 360877 units for 1.11255\n",
      "2020-01-31 | Selling 126903 units for 1.10006\n",
      "2020-01-31 | Selling 126903 units for 1.10006\n",
      "2020-06-18 | Buying -126903 units for 1.12719\n",
      "2020-06-18 | Buying 374602 units for 1.12719\n",
      "################################################################################\n",
      "+++ CLOSING FINAL POSITION AT 2020-06-29 +++\n",
      "2020-06-29 | closing long position of 120796 units for 1.12259\n",
      "2020-06-29 | Current Balance: 135604.53\n",
      "2020-06-29 | Profit & Loss = 35604.53\n",
      "2020-06-29 | net performance (%) = 35.6\n",
      "2020-06-29 | number of trades executed = 46\n",
      "################################################################################\n"
     ]
    }
   ],
   "source": [
    "test.test_sma(36,170)"
   ]
  },
  {
   "cell_type": "code",
   "execution_count": 4,
   "metadata": {},
   "outputs": [
    {
     "name": "stdout",
     "output_type": "stream",
     "text": [
      "Test Contrarian Strategy | window = 10 | quantile window = 20 | quantile = 0.9\n",
      "[*********************100%%**********************]  1 of 1 completed\n",
      "2008-01-08 | Selling 64387 units for 1.55308\n",
      "2008-08-08 | Buying -64387 units for 1.50877\n",
      "2008-08-08 | Buying 196944 units for 1.50877\n",
      "2008-08-27 | Selling 68170 units for 1.46878\n",
      "2008-08-27 | Selling 68170 units for 1.46878\n",
      "2008-08-28 | Buying -68170 units for 1.4752\n",
      "2008-08-28 | Buying 203916 units for 1.4752\n",
      "2008-09-05 | Selling 67576 units for 1.42381\n",
      "2008-09-05 | Selling 67576 units for 1.42381\n",
      "2008-09-10 | Buying -67576 units for 1.40202\n",
      "2008-09-10 | Buying 204829 units for 1.40202\n",
      "2008-09-11 | Selling 69677 units for 1.39599\n",
      "2008-09-11 | Selling 69677 units for 1.39599\n",
      "2008-10-22 | Buying -69677 units for 1.28498\n",
      "2008-10-22 | Buying 221071 units for 1.28498\n",
      "2010-05-10 | Selling 81717 units for 1.27462\n",
      "2010-05-10 | Selling 81717 units for 1.27462\n",
      "2010-05-13 | Buying -81717 units for 1.25735\n",
      "2010-05-13 | Buying 247397 units for 1.25735\n",
      "2010-05-17 | Selling 83963 units for 1.2361\n",
      "2010-05-17 | Selling 83963 units for 1.2361\n",
      "2010-05-18 | Buying -83963 units for 1.22103\n",
      "2010-05-18 | Buying 253962 units for 1.22103\n",
      "2011-09-13 | Selling 86036 units for 1.3625\n",
      "2011-09-13 | Selling 86036 units for 1.3625\n",
      "2011-12-15 | Buying -86036 units for 1.30215\n",
      "2011-12-15 | Buying 266083 units for 1.30215\n",
      "2011-12-19 | Selling 94011 units for 1.30034\n",
      "2011-12-19 | Selling 94011 units for 1.30034\n",
      "2011-12-20 | Buying -94011 units for 1.30414\n",
      "2011-12-20 | Buying 281486 units for 1.30414\n",
      "2014-07-29 | Selling 93464 units for 1.34044\n",
      "2014-07-29 | Selling 93464 units for 1.34044\n",
      "2014-09-01 | Buying -93464 units for 1.31616\n",
      "2014-09-01 | Buying 283841 units for 1.31616\n",
      "2014-09-02 | Selling 96913 units for 1.30982\n",
      "2014-09-02 | Selling 96913 units for 1.30982\n",
      "2014-09-05 | Buying -96913 units for 1.29662\n",
      "2014-09-05 | Buying 292712 units for 1.29662\n",
      "2014-09-08 | Selling 98886 units for 1.292\n",
      "2014-09-08 | Selling 98886 units for 1.292\n",
      "2014-09-09 | Buying -98886 units for 1.29244\n",
      "2014-09-09 | Buying 296591 units for 1.29244\n",
      "2014-09-10 | Selling 98819 units for 1.29086\n",
      "2014-09-10 | Selling 98819 units for 1.29086\n",
      "2014-09-11 | Buying -98819 units for 1.29504\n",
      "2014-09-11 | Buying 295819 units for 1.29504\n",
      "2014-09-12 | Selling 98181 units for 1.28902\n",
      "2014-09-12 | Selling 98181 units for 1.28902\n",
      "2014-09-18 | Buying -98181 units for 1.28831\n",
      "2014-09-18 | Buying 294652 units for 1.28831\n",
      "2015-01-12 | Selling 98290 units for 1.18401\n",
      "2015-01-12 | Selling 98290 units for 1.18401\n",
      "2015-01-13 | Buying -98290 units for 1.1862\n",
      "2015-01-13 | Buying 294507 units for 1.1862\n",
      "2015-01-15 | Selling 97927 units for 1.17555\n",
      "2015-01-15 | Selling 97927 units for 1.17555\n",
      "2015-01-16 | Buying -97927 units for 1.16674\n",
      "2015-01-16 | Buying 295260 units for 1.16674\n",
      "2015-01-20 | Selling 99406 units for 1.15681\n",
      "2015-01-20 | Selling 99406 units for 1.15681\n",
      "2015-01-21 | Buying -99406 units for 1.15767\n",
      "2015-01-21 | Buying 298070 units for 1.15767\n",
      "2015-03-13 | Selling 99258 units for 1.05989\n",
      "2015-03-13 | Selling 99258 units for 1.05989\n",
      "2015-03-16 | Buying -99258 units for 1.05086\n",
      "2015-03-16 | Buying 299479 units for 1.05086\n",
      "2015-03-18 | Selling 100963 units for 1.05707\n",
      "2015-03-18 | Selling 100963 units for 1.05707\n",
      "2016-11-18 | Buying -100963 units for 1.06504\n",
      "2016-11-18 | Buying 301377 units for 1.06504\n",
      "2020-02-20 | Selling 99451 units for 1.07822\n",
      "2020-02-20 | Selling 99451 units for 1.07822\n",
      "2020-02-21 | Buying -99451 units for 1.08158\n",
      "2020-02-21 | Buying 297735 units for 1.08158\n",
      "################################################################################\n",
      "+++ CLOSING FINAL POSITION AT 2020-06-29 +++\n",
      "2020-06-29 | closing long position of 98833 units for 1.12259\n",
      "2020-06-29 | Current Balance: 110949.36\n",
      "2020-06-29 | Profit & Loss = 10949.36\n",
      "2020-06-29 | net performance (%) = 10.95\n",
      "2020-06-29 | number of trades executed = 76\n",
      "################################################################################\n"
     ]
    }
   ],
   "source": [
    "test.test_contrarian(10,20,0.90)"
   ]
  },
  {
   "cell_type": "code",
   "execution_count": null,
   "metadata": {},
   "outputs": [],
   "source": []
  }
 ],
 "metadata": {
  "kernelspec": {
   "display_name": "algotrade",
   "language": "python",
   "name": "python3"
  },
  "language_info": {
   "codemirror_mode": {
    "name": "ipython",
    "version": 3
   },
   "file_extension": ".py",
   "mimetype": "text/x-python",
   "name": "python",
   "nbconvert_exporter": "python",
   "pygments_lexer": "ipython3",
   "version": "3.11.5"
  }
 },
 "nbformat": 4,
 "nbformat_minor": 2
}
